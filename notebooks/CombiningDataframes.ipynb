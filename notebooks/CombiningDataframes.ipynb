{
 "cells": [
  {
   "cell_type": "markdown",
   "id": "6f1e4731",
   "metadata": {},
   "source": [
    "## https://pad.carpentries.org/2023-05-30-uvavu\n"
   ]
  },
  {
   "cell_type": "markdown",
   "id": "8fb45478",
   "metadata": {},
   "source": [
    "lesson can be found at:\n",
    "https://datacarpentry.org/python-ecology-lesson/05-merging-data.html"
   ]
  },
  {
   "cell_type": "raw",
   "id": "59d9c661",
   "metadata": {},
   "source": []
  }
 ],
 "metadata": {
  "kernelspec": {
   "display_name": "Python 3 (ipykernel)",
   "language": "python",
   "name": "python3"
  },
  "language_info": {
   "codemirror_mode": {
    "name": "ipython",
    "version": 3
   },
   "file_extension": ".py",
   "mimetype": "text/x-python",
   "name": "python",
   "nbconvert_exporter": "python",
   "pygments_lexer": "ipython3",
   "version": "3.8.13"
  }
 },
 "nbformat": 4,
 "nbformat_minor": 5
}
