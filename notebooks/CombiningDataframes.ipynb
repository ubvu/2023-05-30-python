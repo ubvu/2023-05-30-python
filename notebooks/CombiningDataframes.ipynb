{
 "cells": [
  {
   "cell_type": "markdown",
   "id": "28d929f4",
   "metadata": {},
   "source": [
    "## https://pad.carpentries.org/2023-05-30-uvavu\n"
   ]
  },
  {
   "cell_type": "markdown",
   "id": "f64e9370",
   "metadata": {},
   "source": [
    "lesson can be found at:\n",
    "https://datacarpentry.org/python-ecology-lesson/05-merging-data.html"
   ]
  },
  {
   "cell_type": "code",
   "execution_count": 1,
   "id": "23f683ef",
   "metadata": {},
   "outputs": [],
   "source": [
    "import pandas as pd"
   ]
  },
  {
   "cell_type": "code",
   "execution_count": 2,
   "id": "7c74e405",
   "metadata": {},
   "outputs": [],
   "source": [
    "surveys_df = pd.read_csv(\"../data/surveys.csv\")"
   ]
  },
  {
   "cell_type": "code",
   "execution_count": null,
   "id": "18242b60",
   "metadata": {},
   "outputs": [],
   "source": [
    "sur"
   ]
  }
 ],
 "metadata": {
  "kernelspec": {
   "display_name": "Python 3 (ipykernel)",
   "language": "python",
   "name": "python3"
  },
  "language_info": {
   "codemirror_mode": {
    "name": "ipython",
    "version": 3
   },
   "file_extension": ".py",
   "mimetype": "text/x-python",
   "name": "python",
   "nbconvert_exporter": "python",
   "pygments_lexer": "ipython3",
   "version": "3.8.13"
  }
 },
 "nbformat": 4,
 "nbformat_minor": 5
}
