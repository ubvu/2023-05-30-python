{
 "cells": [
  {
   "cell_type": "markdown",
   "id": "9d431337-155a-421f-a821-7fef25685ad8",
   "metadata": {},
   "source": [
    "# A short introduction to Python"
   ]
  },
  {
   "cell_type": "code",
   "execution_count": 1,
   "id": "a856c732-7291-4307-8b7c-83cf594553db",
   "metadata": {
    "tags": []
   },
   "outputs": [],
   "source": [
    "number = 13\n",
    "carpentries_text = 'The Carpentries'\n",
    "number_pi = 3.14\n",
    "is_thirsty = True  # False"
   ]
  },
  {
   "cell_type": "code",
   "execution_count": 2,
   "id": "35173ec4-29a5-46a5-ac5e-c1471089c1e7",
   "metadata": {
    "tags": []
   },
   "outputs": [
    {
     "data": {
      "text/plain": [
       "13"
      ]
     },
     "execution_count": 2,
     "metadata": {},
     "output_type": "execute_result"
    }
   ],
   "source": [
    "number"
   ]
  },
  {
   "cell_type": "code",
   "execution_count": 4,
   "id": "cbeb4a69-8ba4-41e0-8a39-9c3fbeabff27",
   "metadata": {
    "tags": []
   },
   "outputs": [
    {
     "name": "stdout",
     "output_type": "stream",
     "text": [
      "13\n"
     ]
    }
   ],
   "source": [
    "print(number)  # number is an argument"
   ]
  },
  {
   "cell_type": "markdown",
   "id": "6d60651d-dff4-453c-838a-76d2f8c04140",
   "metadata": {},
   "source": [
    "## Types"
   ]
  },
  {
   "cell_type": "code",
   "execution_count": null,
   "id": "d0b44947-7f73-4ecb-8fae-57a9b5809452",
   "metadata": {},
   "outputs": [],
   "source": []
  }
 ],
 "metadata": {
  "kernelspec": {
   "display_name": "Python 3 (ipykernel)",
   "language": "python",
   "name": "python3"
  },
  "language_info": {
   "codemirror_mode": {
    "name": "ipython",
    "version": 3
   },
   "file_extension": ".py",
   "mimetype": "text/x-python",
   "name": "python",
   "nbconvert_exporter": "python",
   "pygments_lexer": "ipython3",
   "version": "3.11.3"
  }
 },
 "nbformat": 4,
 "nbformat_minor": 5
}
