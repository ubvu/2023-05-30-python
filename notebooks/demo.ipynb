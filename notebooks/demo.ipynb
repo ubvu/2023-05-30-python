{
 "cells": [
  {
   "cell_type": "code",
   "execution_count": 1,
   "id": "b9c50e8c-9c97-4a16-9bc0-97f36d5dd531",
   "metadata": {
    "tags": []
   },
   "outputs": [],
   "source": [
    "var1 = 1"
   ]
  },
  {
   "cell_type": "code",
   "execution_count": 2,
   "id": "1e6c6613-667b-47ca-a481-7b7e7adf2a79",
   "metadata": {
    "tags": []
   },
   "outputs": [],
   "source": [
    "var2 = 2"
   ]
  },
  {
   "cell_type": "markdown",
   "id": "a6d30bc6-1b4f-4319-9cf3-e85d3c3de306",
   "metadata": {},
   "source": [
    "hey, here is some text"
   ]
  }
 ],
 "metadata": {
  "kernelspec": {
   "display_name": "Python 3 (ipykernel)",
   "language": "python",
   "name": "python3"
  },
  "language_info": {
   "codemirror_mode": {
    "name": "ipython",
    "version": 3
   },
   "file_extension": ".py",
   "mimetype": "text/x-python",
   "name": "python",
   "nbconvert_exporter": "python",
   "pygments_lexer": "ipython3",
   "version": "3.11.3"
  }
 },
 "nbformat": 4,
 "nbformat_minor": 5
}
