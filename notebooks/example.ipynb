{
 "cells": [
  {
   "cell_type": "markdown",
   "id": "a8ffb9b0-4a1a-4f97-b435-52e9f0702cd2",
   "metadata": {},
   "source": [
    "# Test\n",
    "\n",
    "test"
   ]
  },
  {
   "cell_type": "code",
   "execution_count": 10,
   "id": "715a92b5-a9d9-4f02-8c8e-ae497ea5fc56",
   "metadata": {},
   "outputs": [],
   "source": [
    "def test_func():\n",
    "    creature = 1\n",
    "    return creature"
   ]
  },
  {
   "cell_type": "code",
   "execution_count": 11,
   "id": "85fa14b4-263d-4912-9d2f-229842a569ce",
   "metadata": {
    "tags": []
   },
   "outputs": [
    {
     "data": {
      "text/plain": [
       "1"
      ]
     },
     "execution_count": 11,
     "metadata": {},
     "output_type": "execute_result"
    }
   ],
   "source": [
    "test_func()"
   ]
  },
  {
   "cell_type": "code",
   "execution_count": 12,
   "id": "3218cd93-80a8-49e3-87a5-8cdf276db219",
   "metadata": {
    "tags": []
   },
   "outputs": [
    {
     "data": {
      "text/plain": [
       "1"
      ]
     },
     "execution_count": 12,
     "metadata": {},
     "output_type": "execute_result"
    }
   ],
   "source": [
    "creature"
   ]
  },
  {
   "cell_type": "code",
   "execution_count": null,
   "id": "80804d03-7139-4445-9df1-d75e4a3f6df0",
   "metadata": {},
   "outputs": [],
   "source": []
  }
 ],
 "metadata": {
  "kernelspec": {
   "display_name": "Python 3 (ipykernel)",
   "language": "python",
   "name": "python3"
  },
  "language_info": {
   "codemirror_mode": {
    "name": "ipython",
    "version": 3
   },
   "file_extension": ".py",
   "mimetype": "text/x-python",
   "name": "python",
   "nbconvert_exporter": "python",
   "pygments_lexer": "ipython3",
   "version": "3.11.3"
  }
 },
 "nbformat": 4,
 "nbformat_minor": 5
}
