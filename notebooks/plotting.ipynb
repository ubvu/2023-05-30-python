{
 "cells": [
  {
   "cell_type": "code",
   "execution_count": null,
   "id": "8768a8fd-ab65-418e-99ac-0d651c8293a5",
   "metadata": {
    "tags": []
   },
   "outputs": [],
   "source": [
    "conda install -y -c conda-forge plotnine"
   ]
  },
  {
   "cell_type": "markdown",
   "id": "ac94c3dd-f14a-46b0-8ae6-336744f3b4b3",
   "metadata": {},
   "source": [
    "# Visualization of datasets in Python\n",
    "\n",
    "- matplotlib\n",
    "    - "
   ]
  }
 ],
 "metadata": {
  "kernelspec": {
   "display_name": "Python 3 (ipykernel)",
   "language": "python",
   "name": "python3"
  },
  "language_info": {
   "codemirror_mode": {
    "name": "ipython",
    "version": 3
   },
   "file_extension": ".py",
   "mimetype": "text/x-python",
   "name": "python",
   "nbconvert_exporter": "python",
   "pygments_lexer": "ipython3",
   "version": "3.11.3"
  }
 },
 "nbformat": 4,
 "nbformat_minor": 5
}
