{
 "cells": [
  {
   "cell_type": "code",
   "execution_count": 1,
   "id": "8768a8fd-ab65-418e-99ac-0d651c8293a5",
   "metadata": {
    "tags": []
   },
   "outputs": [
    {
     "name": "stdout",
     "output_type": "stream",
     "text": [
      "^C\n",
      "\n",
      "Note: you may need to restart the kernel to use updated packages.\n"
     ]
    },
    {
     "name": "stderr",
     "output_type": "stream",
     "text": [
      "\n",
      "\n",
      "==> WARNING: A newer version of conda exists. <==\n",
      "  current version: 23.3.1\n",
      "  latest version: 23.5.0\n",
      "\n",
      "Please update conda by running\n",
      "\n",
      "    $ conda update -n base -c defaults conda\n",
      "\n",
      "Or to minimize the number of packages updated during conda update use\n",
      "\n",
      "     conda install conda=23.5.0\n",
      "\n",
      "\n"
     ]
    },
    {
     "name": "stdout",
     "output_type": "stream",
     "text": [
      "Collecting package metadata (current_repodata.json): ...working... done\n",
      "Solving environment: ...working... done\n",
      "\n",
      "## Package Plan ##\n",
      "\n",
      "  environment location: C:\\Users\\mps412\\AppData\\Local\\miniconda3\\envs\\ri\n",
      "\n",
      "  added / updated specs:\n",
      "    - plotnine\n",
      "\n",
      "\n",
      "The following packages will be downloaded:\n",
      "\n",
      "    package                    |            build\n",
      "    ---------------------------|-----------------\n",
      "    openssl-3.1.1              |       hcfcfb64_1         7.1 MB  conda-forge\n",
      "    ------------------------------------------------------------\n",
      "                                           Total:         7.1 MB\n",
      "\n",
      "The following packages will be UPDATED:\n",
      "\n",
      "  openssl                                  3.1.0-hcfcfb64_3 --> 3.1.1-hcfcfb64_1 \n",
      "\n",
      "\n",
      "\n",
      "Downloading and Extracting Packages\n",
      "\n",
      "openssl-3.1.1        | 7.1 MB    |            |   0% \n",
      "openssl-3.1.1        | 7.1 MB    |            |   0% \n",
      "openssl-3.1.1        | 7.1 MB    | #5         |  15% \n",
      "openssl-3.1.1        | 7.1 MB    | ###1       |  31% \n",
      "openssl-3.1.1        | 7.1 MB    | ####7      |  48% \n",
      "openssl-3.1.1        | 7.1 MB    | ######3    |  64% \n",
      "openssl-3.1.1        | 7.1 MB    | ########2  |  83% \n",
      "openssl-3.1.1        | 7.1 MB    | #########9 | 100% \n",
      "openssl-3.1.1        | 7.1 MB    | ########## | 100% \n",
      "                                                     \n",
      "\n",
      "\n",
      "Preparing transaction: ...working... done\n",
      "Verifying transaction: ...working... done\n",
      "Executing transaction: ...working... done\n"
     ]
    }
   ],
   "source": [
    "conda install -y -c conda-forge plotnine"
   ]
  },
  {
   "cell_type": "code",
   "execution_count": null,
   "id": "3d949ef4-8722-4ac7-878f-03e34a315809",
   "metadata": {},
   "outputs": [],
   "source": []
  }
 ],
 "metadata": {
  "kernelspec": {
   "display_name": "Python 3 (ipykernel)",
   "language": "python",
   "name": "python3"
  },
  "language_info": {
   "codemirror_mode": {
    "name": "ipython",
    "version": 3
   },
   "file_extension": ".py",
   "mimetype": "text/x-python",
   "name": "python",
   "nbconvert_exporter": "python",
   "pygments_lexer": "ipython3",
   "version": "3.11.3"
  }
 },
 "nbformat": 4,
 "nbformat_minor": 5
}
