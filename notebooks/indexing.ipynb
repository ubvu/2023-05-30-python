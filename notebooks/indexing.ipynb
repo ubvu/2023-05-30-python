{
 "cells": [
  {
   "cell_type": "code",
   "execution_count": 1,
   "id": "f5a6c53f-aa82-4b4a-93a5-d3f2eed3b765",
   "metadata": {},
   "outputs": [
    {
     "name": "stdout",
     "output_type": "stream",
     "text": [
      "1\n",
      "2\n",
      "3\n",
      "4\n",
      "4\n"
     ]
    }
   ],
   "source": [
    "number = 1\n",
    "numbers = [1,2,3,4]\n",
    "\n",
    "for number in numbers:\n",
    "    print(number)\n",
    "    \n",
    "print(number)"
   ]
  },
  {
   "cell_type": "code",
   "execution_count": null,
   "id": "76da6199-472a-45a7-a72d-280f000baa94",
   "metadata": {},
   "outputs": [],
   "source": []
  }
 ],
 "metadata": {
  "kernelspec": {
   "display_name": "Python 3 (ipykernel)",
   "language": "python",
   "name": "python3"
  },
  "language_info": {
   "codemirror_mode": {
    "name": "ipython",
    "version": 3
   },
   "file_extension": ".py",
   "mimetype": "text/x-python",
   "name": "python",
   "nbconvert_exporter": "python",
   "pygments_lexer": "ipython3",
   "version": "3.9.12"
  }
 },
 "nbformat": 4,
 "nbformat_minor": 5
}
