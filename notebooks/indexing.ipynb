{
 "cells": [
  {
   "cell_type": "markdown",
   "id": "2670b54f-6177-4d08-be24-4ab32319b796",
   "metadata": {},
   "source": [
    "# Indexing, Slicing and subsetting DataFrames"
   ]
  },
  {
   "cell_type": "code",
   "execution_count": null,
   "id": "1bfdd7c8-58d4-4edd-b1b9-ba3f6496c695",
   "metadata": {},
   "outputs": [],
   "source": [
    "import pandas as pd"
   ]
  },
  {
   "cell_type": "code",
   "execution_count": null,
   "id": "7abeabe0-3dfd-4149-a964-c624db0138fb",
   "metadata": {},
   "outputs": [],
   "source": []
  }
 ],
 "metadata": {
  "kernelspec": {
   "display_name": "Python 3 (ipykernel)",
   "language": "python",
   "name": "python3"
  },
  "language_info": {
   "codemirror_mode": {
    "name": "ipython",
    "version": 3
   },
   "file_extension": ".py",
   "mimetype": "text/x-python",
   "name": "python",
   "nbconvert_exporter": "python",
   "pygments_lexer": "ipython3",
   "version": "3.9.12"
  }
 },
 "nbformat": 4,
 "nbformat_minor": 5
}
