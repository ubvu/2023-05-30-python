{
 "cells": [
  {
   "cell_type": "markdown",
   "id": "52379890",
   "metadata": {},
   "source": [
    "## https://pad.carpentries.org/2023-05-30-uvavu\n"
   ]
  },
  {
   "cell_type": "markdown",
   "id": "c54250ec",
   "metadata": {},
   "source": [
    "lesson can be found at:\n",
    "https://datacarpentry.org/python-ecology-lesson/05-merging-data.html"
   ]
  },
  {
   "cell_type": "code",
   "execution_count": null,
   "id": "d9f7c21f",
   "metadata": {},
   "outputs": [],
   "source": []
  }
 ],
 "metadata": {
  "kernelspec": {
   "display_name": "Python 3 (ipykernel)",
   "language": "python",
   "name": "python3"
  },
  "language_info": {
   "codemirror_mode": {
    "name": "ipython",
    "version": 3
   },
   "file_extension": ".py",
   "mimetype": "text/x-python",
   "name": "python",
   "nbconvert_exporter": "python",
   "pygments_lexer": "ipython3",
   "version": "3.8.13"
  }
 },
 "nbformat": 4,
 "nbformat_minor": 5
}
