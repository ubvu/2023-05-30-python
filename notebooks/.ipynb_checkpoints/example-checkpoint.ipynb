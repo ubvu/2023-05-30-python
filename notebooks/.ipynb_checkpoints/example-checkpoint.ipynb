{
 "cells": [
  {
   "cell_type": "markdown",
   "id": "a8ffb9b0-4a1a-4f97-b435-52e9f0702cd2",
   "metadata": {},
   "source": [
    "# Test\n",
    "\n",
    "test"
   ]
  },
  {
   "cell_type": "code",
   "execution_count": 14,
   "id": "715a92b5-a9d9-4f02-8c8e-ae497ea5fc56",
   "metadata": {},
   "outputs": [],
   "source": [
    "def test_func():\n",
    "    creature = 1\n",
    "    return creature"
   ]
  },
  {
   "cell_type": "code",
   "execution_count": 15,
   "id": "85fa14b4-263d-4912-9d2f-229842a569ce",
   "metadata": {
    "tags": []
   },
   "outputs": [
    {
     "data": {
      "text/plain": [
       "1"
      ]
     },
     "execution_count": 15,
     "metadata": {},
     "output_type": "execute_result"
    }
   ],
   "source": [
    "test_func()"
   ]
  },
  {
   "cell_type": "code",
   "execution_count": null,
   "id": "80804d03-7139-4445-9df1-d75e4a3f6df0",
   "metadata": {},
   "outputs": [],
   "source": []
  },
  {
   "cell_type": "code",
   "execution_count": 16,
   "id": "49033210-440d-4c67-83ea-32533c35bf77",
   "metadata": {
    "tags": []
   },
   "outputs": [
    {
     "ename": "NameError",
     "evalue": "name 'creature' is not defined",
     "output_type": "error",
     "traceback": [
      "\u001b[1;31m---------------------------------------------------------------------------\u001b[0m",
      "\u001b[1;31mNameError\u001b[0m                                 Traceback (most recent call last)",
      "Cell \u001b[1;32mIn[16], line 1\u001b[0m\n\u001b[1;32m----> 1\u001b[0m \u001b[43mcreature\u001b[49m\n",
      "\u001b[1;31mNameError\u001b[0m: name 'creature' is not defined"
     ]
    }
   ],
   "source": [
    "creature"
   ]
  },
  {
   "cell_type": "code",
   "execution_count": null,
   "id": "95e147ff-26a3-4d12-920a-1d0444901462",
   "metadata": {},
   "outputs": [],
   "source": []
  }
 ],
 "metadata": {
  "kernelspec": {
   "display_name": "Python 3 (ipykernel)",
   "language": "python",
   "name": "python3"
  },
  "language_info": {
   "codemirror_mode": {
    "name": "ipython",
    "version": 3
   },
   "file_extension": ".py",
   "mimetype": "text/x-python",
   "name": "python",
   "nbconvert_exporter": "python",
   "pygments_lexer": "ipython3",
   "version": "3.11.3"
  }
 },
 "nbformat": 4,
 "nbformat_minor": 5
}
