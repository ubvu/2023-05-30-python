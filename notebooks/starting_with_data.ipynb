{
 "cells": [
  {
   "cell_type": "markdown",
   "id": "85e69e82-3671-4435-a6ca-b0c0b949d094",
   "metadata": {},
   "source": [
    "# Introducing Pandas"
   ]
  },
  {
   "cell_type": "markdown",
   "id": "112d543d-01d0-48ac-81e1-e3999fb1d38f",
   "metadata": {},
   "source": [
    "- import data into Python\n",
    "- data exploration, summary statistics, basic plotting"
   ]
  },
  {
   "cell_type": "markdown",
   "id": "2b0fa406-6ab1-4870-a28e-f574f0125ab6",
   "metadata": {},
   "source": [
    "surveys.csv\n",
    "\n",
    "- species and weight data of animals caught in study area x\n",
    "- csv: each obversation is a row"
   ]
  },
  {
   "cell_type": "code",
   "execution_count": null,
   "id": "a46e04de-1bc1-4544-93e4-3763546ab9eb",
   "metadata": {},
   "outputs": [],
   "source": []
  }
 ],
 "metadata": {
  "kernelspec": {
   "display_name": "Python 3 (ipykernel)",
   "language": "python",
   "name": "python3"
  },
  "language_info": {
   "codemirror_mode": {
    "name": "ipython",
    "version": 3
   },
   "file_extension": ".py",
   "mimetype": "text/x-python",
   "name": "python",
   "nbconvert_exporter": "python",
   "pygments_lexer": "ipython3",
   "version": "3.11.3"
  }
 },
 "nbformat": 4,
 "nbformat_minor": 5
}
