{
 "cells": [
  {
   "cell_type": "markdown",
   "id": "85e69e82-3671-4435-a6ca-b0c0b949d094",
   "metadata": {},
   "source": [
    "# Introducing Pandas"
   ]
  },
  {
   "cell_type": "markdown",
   "id": "112d543d-01d0-48ac-81e1-e3999fb1d38f",
   "metadata": {},
   "source": [
    "- import data into Python\n",
    "- data exploration, summary statistics, b"
   ]
  }
 ],
 "metadata": {
  "kernelspec": {
   "display_name": "Python 3 (ipykernel)",
   "language": "python",
   "name": "python3"
  },
  "language_info": {
   "codemirror_mode": {
    "name": "ipython",
    "version": 3
   },
   "file_extension": ".py",
   "mimetype": "text/x-python",
   "name": "python",
   "nbconvert_exporter": "python",
   "pygments_lexer": "ipython3",
   "version": "3.11.3"
  }
 },
 "nbformat": 4,
 "nbformat_minor": 5
}
