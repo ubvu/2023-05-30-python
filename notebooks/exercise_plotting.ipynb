{
 "cells": [
  {
   "cell_type": "markdown",
   "id": "61a4a9b9-8326-4b39-92ad-538173ecfb53",
   "metadata": {},
   "source": [
    "# Dataset\n",
    "\n",
    "bouldercreek_09_2013.txt\n",
    "\n",
    "- stream discharge data\n",
    "- summarized at 15 minute intervals (in cubic feet per second)\n",
    "- measured from 1-30 September 2013"
   ]
  },
  {
   "cell_type": "code",
   "execution_count": null,
   "id": "6528ecd3-6b5e-49cb-870e-d5eff71449a0",
   "metadata": {
    "tags": []
   },
   "outputs": [],
   "source": [
    "import pandas as pd"
   ]
  },
  {
   "cell_type": "code",
   "execution_count": null,
   "id": "b84bd3fe-776f-414a-8b31-9c5fdf41083f",
   "metadata": {
    "tags": []
   },
   "outputs": [],
   "source": [
    "data = pd.read_csv('../data/bouldercreek_09_2013.txt')\n",
    "# we get a ParserError because the file is not in csv format"
   ]
  },
  {
   "cell_type": "markdown",
   "id": "8a813d88-94a4-4004-b260-c4e337ccafd4",
   "metadata": {},
   "source": [
    "# Read file correctly\n",
    "\n",
    "- open the txt file in a text editor\n",
    "- observe issues with the file format:\n",
    "    - first 25 rows are descriptive text\n",
    "    - uses tab delimiter (not comma)"
   ]
  },
  {
   "cell_type": "code",
   "execution_count": null,
   "id": "4d57b30a-dfda-4a48-a619-2936f8f31fb6",
   "metadata": {
    "tags": []
   },
   "outputs": [],
   "source": [
    "# we skip the first 25 rows that contain descriptive text\n",
    "data = pd.read_csv('../data/bouldercreek_09_2013.txt', skiprows=25)"
   ]
  },
  {
   "cell_type": "code",
   "execution_count": null,
   "id": "3ce896e2-e6ac-4ded-8b69-754e6d219189",
   "metadata": {
    "tags": []
   },
   "outputs": [],
   "source": [
    "data.head()"
   ]
  },
  {
   "cell_type": "code",
   "execution_count": null,
   "id": "a4c0a52e-bcb2-4542-8686-4b3ca48abadd",
   "metadata": {
    "tags": []
   },
   "outputs": [],
   "source": [
    "# we change the delimiter to tab: \\t\n",
    "data = pd.read_csv('data/bouldercreek_09_2013.txt', skiprows=25, delimiter='\\t')"
   ]
  },
  {
   "cell_type": "code",
   "execution_count": null,
   "id": "1420704a-a324-4291-963e-57a66fb91ebf",
   "metadata": {
    "tags": []
   },
   "outputs": [],
   "source": [
    "data.head()"
   ]
  },
  {
   "cell_type": "code",
   "execution_count": null,
   "id": "fbe3e804-31e4-465b-ae17-955ebf279990",
   "metadata": {
    "tags": []
   },
   "outputs": [],
   "source": [
    "# cleaning: remove the first row\n",
    "data = data.loc[1:, :]"
   ]
  },
  {
   "cell_type": "markdown",
   "id": "bb669726-fb06-4c9b-9712-392ec280aee3",
   "metadata": {},
   "source": [
    "# Explore the data\n",
    "\n",
    "- *04_00060* is the code for the discharge rate"
   ]
  },
  {
   "cell_type": "code",
   "execution_count": null,
   "id": "73ff860d-3a45-4f36-a5dd-bf8b22ba106b",
   "metadata": {
    "tags": []
   },
   "outputs": [],
   "source": [
    "# we are only observing one site\n",
    "data['site_no'].unique()"
   ]
  },
  {
   "cell_type": "code",
   "execution_count": null,
   "id": "fdfb8e11-e76b-4133-bcda-fedd4954ee59",
   "metadata": {
    "tags": []
   },
   "outputs": [],
   "source": [
    "data['04_00060'].describe()\n",
    "# discharge rate column is not numerical"
   ]
  },
  {
   "cell_type": "code",
   "execution_count": null,
   "id": "e7dfeb76-0ab5-44b4-9a22-658a55456439",
   "metadata": {
    "tags": []
   },
   "outputs": [],
   "source": [
    "# convert to number\n",
    "data['04_00060'] = data['04_00060'].astype(float)"
   ]
  },
  {
   "cell_type": "code",
   "execution_count": null,
   "id": "a25dbc35-11fc-48af-950c-eb53227bc6ee",
   "metadata": {
    "tags": []
   },
   "outputs": [],
   "source": [
    "data['04_00060'].describe()"
   ]
  },
  {
   "cell_type": "code",
   "execution_count": null,
   "id": "bd94f401-897a-45f9-b108-3f3d71d5447d",
   "metadata": {
    "tags": []
   },
   "outputs": [],
   "source": [
    "data['datetime']\n",
    "# datetime is not in datetime format"
   ]
  },
  {
   "cell_type": "code",
   "execution_count": null,
   "id": "76b61918-a33a-401f-ad3a-af45f9c52698",
   "metadata": {
    "tags": []
   },
   "outputs": [],
   "source": [
    "# convert to datetime\n",
    "data['datetime'] = pd.to_datetime(data['datetime'])"
   ]
  },
  {
   "cell_type": "markdown",
   "id": "e5b09279-eb4d-4aee-b3e6-3bb8c45aff37",
   "metadata": {},
   "source": [
    "# Create plot"
   ]
  },
  {
   "cell_type": "code",
   "execution_count": null,
   "id": "169e5804-62c8-441c-a1bd-1769d1adb8f2",
   "metadata": {
    "tags": []
   },
   "outputs": [],
   "source": [
    "import plotnine as p9"
   ]
  },
  {
   "cell_type": "code",
   "execution_count": null,
   "id": "4f7622b9-1e7c-448e-8b27-517378443f3e",
   "metadata": {
    "tags": []
   },
   "outputs": [],
   "source": [
    "base_plot = p9.ggplot(data=data, mapping=p9.aes(x='datetime', y='04_00060'))"
   ]
  },
  {
   "cell_type": "code",
   "execution_count": null,
   "id": "d4be492d-5757-4807-b719-eedddee9e02d",
   "metadata": {
    "tags": []
   },
   "outputs": [],
   "source": [
    "base_plot + p9.geom_line()"
   ]
  },
  {
   "cell_type": "markdown",
   "id": "993b96ef-8d17-4585-b9db-aa13692a0695",
   "metadata": {},
   "source": [
    "tidy up the x-axis"
   ]
  },
  {
   "cell_type": "code",
   "execution_count": null,
   "id": "d0537149-026e-4595-9732-fb898e882150",
   "metadata": {
    "tags": []
   },
   "outputs": [],
   "source": [
    "base_plot + p9.geom_line() + p9.scale_x_datetime(date_breaks='1 week', date_labels='%d/%m')\n",
    "# scale_x_datetime also has 'limits' parameter to specify the boundaries"
   ]
  },
  {
   "cell_type": "code",
   "execution_count": null,
   "id": "5ddbadd3-66f4-40df-818c-e2cf47ed5715",
   "metadata": {},
   "outputs": [],
   "source": []
  }
 ],
 "metadata": {
  "kernelspec": {
   "display_name": "Python 3 (ipykernel)",
   "language": "python",
   "name": "python3"
  },
  "language_info": {
   "codemirror_mode": {
    "name": "ipython",
    "version": 3
   },
   "file_extension": ".py",
   "mimetype": "text/x-python",
   "name": "python",
   "nbconvert_exporter": "python",
   "pygments_lexer": "ipython3",
   "version": "3.11.3"
  }
 },
 "nbformat": 4,
 "nbformat_minor": 5
}
