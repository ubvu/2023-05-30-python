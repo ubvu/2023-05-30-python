{
 "cells": [
  {
   "cell_type": "markdown",
   "id": "d31ba603",
   "metadata": {},
   "source": [
    "lesson:\n",
    "https://datacarpentry.org/python-ecology-lesson/06-loops-and-functions.html"
   ]
  },
  {
   "cell_type": "code",
   "execution_count": null,
   "id": "21bc71ca",
   "metadata": {},
   "outputs": [],
   "source": []
  },
  {
   "cell_type": "code",
   "execution_count": null,
   "id": "c21b07f7",
   "metadata": {},
   "outputs": [],
   "source": []
  },
  {
   "cell_type": "code",
   "execution_count": 1,
   "id": "2944268f",
   "metadata": {},
   "outputs": [],
   "source": [
    "animals=[\"lion\", \"tiger\", \"crocodile\", \"vulture\", \"hippo\"]"
   ]
  },
  {
   "cell_type": "code",
   "execution_count": 2,
   "id": "68955074",
   "metadata": {},
   "outputs": [
    {
     "name": "stdout",
     "output_type": "stream",
     "text": [
      "['lion', 'tiger', 'crocodile', 'vulture', 'hippo']\n"
     ]
    }
   ],
   "source": [
    "print(animals)"
   ]
  },
  {
   "cell_type": "code",
   "execution_count": 3,
   "id": "0ed7bd7c",
   "metadata": {},
   "outputs": [
    {
     "name": "stdout",
     "output_type": "stream",
     "text": [
      "lion\n",
      "tiger\n",
      "crocodile\n",
      "vulture\n",
      "hippo\n"
     ]
    }
   ],
   "source": [
    "for creature in animals:\n",
    "    print(creature)"
   ]
  },
  {
   "cell_type": "code",
   "execution_count": 5,
   "id": "b9c74e06",
   "metadata": {},
   "outputs": [],
   "source": [
    "for creature in animals:\n",
    "    pass"
   ]
  },
  {
   "cell_type": "code",
   "execution_count": 6,
   "id": "dbd321f8",
   "metadata": {},
   "outputs": [
    {
     "name": "stdout",
     "output_type": "stream",
     "text": [
      "hippo\n"
     ]
    }
   ],
   "source": [
    "print(creature)"
   ]
  },
  {
   "cell_type": "code",
   "execution_count": 7,
   "id": "81d93ddf",
   "metadata": {},
   "outputs": [],
   "source": [
    "import os\n",
    "import pandas as pd"
   ]
  },
  {
   "cell_type": "code",
   "execution_count": 8,
   "id": "f39d1097",
   "metadata": {},
   "outputs": [],
   "source": [
    "os.mkdir(\"../data/yearly_files\")"
   ]
  },
  {
   "cell_type": "code",
   "execution_count": 9,
   "id": "fb6db516",
   "metadata": {},
   "outputs": [
    {
     "data": {
      "text/plain": [
       "['surveys2001.csv',\n",
       " 'surveys2002.csv',\n",
       " 'speciesSubset.csv',\n",
       " 'bouldercreek_09_2013.txt',\n",
       " 'species.csv',\n",
       " 'yearly_files',\n",
       " 'surveys.csv',\n",
       " 'out.csv',\n",
       " 'portal_mammals.sqlite',\n",
       " 'readme.txt',\n",
       " '.ipynb_checkpoints',\n",
       " 'surveys_complete.csv',\n",
       " 'plots.csv']"
      ]
     },
     "execution_count": 9,
     "metadata": {},
     "output_type": "execute_result"
    }
   ],
   "source": [
    "os.listdir(\"../data/\")"
   ]
  },
  {
   "cell_type": "code",
   "execution_count": 10,
   "id": "51a8a641",
   "metadata": {},
   "outputs": [],
   "source": [
    "surveys_df = pd.read_csv(\"../data/surveys.csv\")"
   ]
  },
  {
   "cell_type": "code",
   "execution_count": 11,
   "id": "222abcc4",
   "metadata": {},
   "outputs": [],
   "source": [
    "survey_2002 = surveys_df[surveys_df[\"year\"] == 2002]"
   ]
  },
  {
   "cell_type": "code",
   "execution_count": 12,
   "id": "473df04d",
   "metadata": {},
   "outputs": [],
   "source": [
    "survey_2002.to_csv(\"../data/yearly_files/surveys_2002.csv\")"
   ]
  },
  {
   "cell_type": "code",
   "execution_count": 13,
   "id": "9fa89fa3",
   "metadata": {},
   "outputs": [
    {
     "data": {
      "text/plain": [
       "['surveys_2002.csv']"
      ]
     },
     "execution_count": 13,
     "metadata": {},
     "output_type": "execute_result"
    }
   ],
   "source": [
    "os.listdir(\"../data/yearly_files/\")"
   ]
  },
  {
   "cell_type": "code",
   "execution_count": 14,
   "id": "e0666c4b",
   "metadata": {},
   "outputs": [
    {
     "data": {
      "text/plain": [
       "0        1977\n",
       "1        1977\n",
       "2        1977\n",
       "3        1977\n",
       "4        1977\n",
       "         ... \n",
       "35544    2002\n",
       "35545    2002\n",
       "35546    2002\n",
       "35547    2002\n",
       "35548    2002\n",
       "Name: year, Length: 35549, dtype: int64"
      ]
     },
     "execution_count": 14,
     "metadata": {},
     "output_type": "execute_result"
    }
   ],
   "source": [
    "surveys_df[\"year\"]"
   ]
  },
  {
   "cell_type": "code",
   "execution_count": 15,
   "id": "efd92994",
   "metadata": {},
   "outputs": [
    {
     "data": {
      "text/plain": [
       "array([1977, 1978, 1979, 1980, 1981, 1982, 1983, 1984, 1985, 1986, 1987,\n",
       "       1988, 1989, 1990, 1991, 1992, 1993, 1994, 1995, 1996, 1997, 1998,\n",
       "       1999, 2000, 2001, 2002])"
      ]
     },
     "execution_count": 15,
     "metadata": {},
     "output_type": "execute_result"
    }
   ],
   "source": [
    "surveys_df[\"year\"].unique()"
   ]
  },
  {
   "cell_type": "code",
   "execution_count": 16,
   "id": "d64fae3e",
   "metadata": {},
   "outputs": [
    {
     "name": "stdout",
     "output_type": "stream",
     "text": [
      "../data/yearly_files/surveys1977.csv\n",
      "../data/yearly_files/surveys1978.csv\n",
      "../data/yearly_files/surveys1979.csv\n",
      "../data/yearly_files/surveys1980.csv\n",
      "../data/yearly_files/surveys1981.csv\n",
      "../data/yearly_files/surveys1982.csv\n",
      "../data/yearly_files/surveys1983.csv\n",
      "../data/yearly_files/surveys1984.csv\n",
      "../data/yearly_files/surveys1985.csv\n",
      "../data/yearly_files/surveys1986.csv\n",
      "../data/yearly_files/surveys1987.csv\n",
      "../data/yearly_files/surveys1988.csv\n",
      "../data/yearly_files/surveys1989.csv\n",
      "../data/yearly_files/surveys1990.csv\n",
      "../data/yearly_files/surveys1991.csv\n",
      "../data/yearly_files/surveys1992.csv\n",
      "../data/yearly_files/surveys1993.csv\n",
      "../data/yearly_files/surveys1994.csv\n",
      "../data/yearly_files/surveys1995.csv\n",
      "../data/yearly_files/surveys1996.csv\n",
      "../data/yearly_files/surveys1997.csv\n",
      "../data/yearly_files/surveys1998.csv\n",
      "../data/yearly_files/surveys1999.csv\n",
      "../data/yearly_files/surveys2000.csv\n",
      "../data/yearly_files/surveys2001.csv\n",
      "../data/yearly_files/surveys2002.csv\n"
     ]
    }
   ],
   "source": [
    "for year in surveys_df[\"year\"].unique():\n",
    "    filename = \"../data/yearly_files/surveys\" + str(year) + \".csv\"\n",
    "    print(filename)"
   ]
  },
  {
   "cell_type": "code",
   "execution_count": 17,
   "id": "41a308f7",
   "metadata": {},
   "outputs": [
    {
     "data": {
      "text/plain": [
       "['surveys_2002.csv']"
      ]
     },
     "execution_count": 17,
     "metadata": {},
     "output_type": "execute_result"
    }
   ],
   "source": [
    "os.listdir(\"../data/yearly_files/\")"
   ]
  },
  {
   "cell_type": "code",
   "execution_count": null,
   "id": "5d346e53",
   "metadata": {},
   "outputs": [],
   "source": [
    "for year in surveys_df[\"year\"].unique():\n",
    "    filename = \"../data/yearly_files/surveys\" + str(year) + \".csv\"\n",
    "    surveys_year = surveys_df[surveys_df[\"year\"] == year]"
   ]
  }
 ],
 "metadata": {
  "kernelspec": {
   "display_name": "Python 3 (ipykernel)",
   "language": "python",
   "name": "python3"
  },
  "language_info": {
   "codemirror_mode": {
    "name": "ipython",
    "version": 3
   },
   "file_extension": ".py",
   "mimetype": "text/x-python",
   "name": "python",
   "nbconvert_exporter": "python",
   "pygments_lexer": "ipython3",
   "version": "3.8.13"
  }
 },
 "nbformat": 4,
 "nbformat_minor": 5
}
