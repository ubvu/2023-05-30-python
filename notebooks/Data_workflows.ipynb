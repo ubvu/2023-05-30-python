{
 "cells": [
  {
   "cell_type": "markdown",
   "id": "cdab8445",
   "metadata": {},
   "source": [
    "lesson:\n",
    "https://datacarpentry.org/python-ecology-lesson/06-loops-and-functions.html"
   ]
  },
  {
   "cell_type": "code",
   "execution_count": null,
   "id": "55c7649c",
   "metadata": {},
   "outputs": [],
   "source": []
  },
  {
   "cell_type": "code",
   "execution_count": null,
   "id": "a930c442",
   "metadata": {},
   "outputs": [],
   "source": []
  },
  {
   "cell_type": "code",
   "execution_count": 1,
   "id": "94c5b2f1",
   "metadata": {},
   "outputs": [],
   "source": [
    "animals=[\"lion\", \"tiger\", \"crocodile\", \"vulture\", \"hippo\"]"
   ]
  },
  {
   "cell_type": "code",
   "execution_count": 2,
   "id": "96ae23ff",
   "metadata": {},
   "outputs": [
    {
     "name": "stdout",
     "output_type": "stream",
     "text": [
      "['lion', 'tiger', 'crocodile', 'vulture', 'hippo']\n"
     ]
    }
   ],
   "source": [
    "print(animals)"
   ]
  },
  {
   "cell_type": "code",
   "execution_count": 3,
   "id": "b68ef65c",
   "metadata": {},
   "outputs": [
    {
     "name": "stdout",
     "output_type": "stream",
     "text": [
      "lion\n",
      "tiger\n",
      "crocodile\n",
      "vulture\n",
      "hippo\n"
     ]
    }
   ],
   "source": [
    "for creature in animals:\n",
    "    print(creature)"
   ]
  },
  {
   "cell_type": "code",
   "execution_count": 5,
   "id": "3ca7e8fc",
   "metadata": {},
   "outputs": [],
   "source": [
    "for creature in animals:\n",
    "    pass"
   ]
  },
  {
   "cell_type": "code",
   "execution_count": 6,
   "id": "bf12ee00",
   "metadata": {},
   "outputs": [
    {
     "name": "stdout",
     "output_type": "stream",
     "text": [
      "hippo\n"
     ]
    }
   ],
   "source": [
    "print(creature)"
   ]
  },
  {
   "cell_type": "code",
   "execution_count": 7,
   "id": "eb77d569",
   "metadata": {},
   "outputs": [],
   "source": [
    "import os\n",
    "import pandas as pd"
   ]
  },
  {
   "cell_type": "code",
   "execution_count": 8,
   "id": "88d871f0",
   "metadata": {},
   "outputs": [],
   "source": [
    "os.mkdir(\"../data/yearly_files\")"
   ]
  },
  {
   "cell_type": "code",
   "execution_count": 9,
   "id": "3425288c",
   "metadata": {},
   "outputs": [
    {
     "data": {
      "text/plain": [
       "['surveys2001.csv',\n",
       " 'surveys2002.csv',\n",
       " 'speciesSubset.csv',\n",
       " 'bouldercreek_09_2013.txt',\n",
       " 'species.csv',\n",
       " 'yearly_files',\n",
       " 'surveys.csv',\n",
       " 'out.csv',\n",
       " 'portal_mammals.sqlite',\n",
       " 'readme.txt',\n",
       " '.ipynb_checkpoints',\n",
       " 'surveys_complete.csv',\n",
       " 'plots.csv']"
      ]
     },
     "execution_count": 9,
     "metadata": {},
     "output_type": "execute_result"
    }
   ],
   "source": [
    "os.listdir(\"../data/\")"
   ]
  },
  {
   "cell_type": "code",
   "execution_count": 10,
   "id": "9aac8136",
   "metadata": {},
   "outputs": [],
   "source": [
    "surveys_df = pd.read_csv(\"../data/surveys.csv\")"
   ]
  },
  {
   "cell_type": "code",
   "execution_count": 11,
   "id": "52d241f2",
   "metadata": {},
   "outputs": [],
   "source": [
    "survey_2002 = surveys_df[surveys_df[\"year\"] == 2002]"
   ]
  },
  {
   "cell_type": "code",
   "execution_count": 12,
   "id": "7910b375",
   "metadata": {},
   "outputs": [],
   "source": [
    "survey_2002.to_csv(\"../data/yearly_files/surveys_2002.csv\")"
   ]
  },
  {
   "cell_type": "code",
   "execution_count": 13,
   "id": "78566254",
   "metadata": {},
   "outputs": [
    {
     "data": {
      "text/plain": [
       "['surveys_2002.csv']"
      ]
     },
     "execution_count": 13,
     "metadata": {},
     "output_type": "execute_result"
    }
   ],
   "source": [
    "os.listdir(\"../data/yearly_files/\")"
   ]
  },
  {
   "cell_type": "code",
   "execution_count": 14,
   "id": "200186ab",
   "metadata": {},
   "outputs": [
    {
     "data": {
      "text/plain": [
       "0        1977\n",
       "1        1977\n",
       "2        1977\n",
       "3        1977\n",
       "4        1977\n",
       "         ... \n",
       "35544    2002\n",
       "35545    2002\n",
       "35546    2002\n",
       "35547    2002\n",
       "35548    2002\n",
       "Name: year, Length: 35549, dtype: int64"
      ]
     },
     "execution_count": 14,
     "metadata": {},
     "output_type": "execute_result"
    }
   ],
   "source": [
    "surveys_df[\"year\"]"
   ]
  },
  {
   "cell_type": "code",
   "execution_count": 15,
   "id": "60a013a5",
   "metadata": {},
   "outputs": [
    {
     "data": {
      "text/plain": [
       "array([1977, 1978, 1979, 1980, 1981, 1982, 1983, 1984, 1985, 1986, 1987,\n",
       "       1988, 1989, 1990, 1991, 1992, 1993, 1994, 1995, 1996, 1997, 1998,\n",
       "       1999, 2000, 2001, 2002])"
      ]
     },
     "execution_count": 15,
     "metadata": {},
     "output_type": "execute_result"
    }
   ],
   "source": [
    "surveys_df[\"year\"].unique()"
   ]
  },
  {
   "cell_type": "code",
   "execution_count": 16,
   "id": "5e68ee83",
   "metadata": {},
   "outputs": [
    {
     "name": "stdout",
     "output_type": "stream",
     "text": [
      "../data/yearly_files/surveys1977.csv\n",
      "../data/yearly_files/surveys1978.csv\n",
      "../data/yearly_files/surveys1979.csv\n",
      "../data/yearly_files/surveys1980.csv\n",
      "../data/yearly_files/surveys1981.csv\n",
      "../data/yearly_files/surveys1982.csv\n",
      "../data/yearly_files/surveys1983.csv\n",
      "../data/yearly_files/surveys1984.csv\n",
      "../data/yearly_files/surveys1985.csv\n",
      "../data/yearly_files/surveys1986.csv\n",
      "../data/yearly_files/surveys1987.csv\n",
      "../data/yearly_files/surveys1988.csv\n",
      "../data/yearly_files/surveys1989.csv\n",
      "../data/yearly_files/surveys1990.csv\n",
      "../data/yearly_files/surveys1991.csv\n",
      "../data/yearly_files/surveys1992.csv\n",
      "../data/yearly_files/surveys1993.csv\n",
      "../data/yearly_files/surveys1994.csv\n",
      "../data/yearly_files/surveys1995.csv\n",
      "../data/yearly_files/surveys1996.csv\n",
      "../data/yearly_files/surveys1997.csv\n",
      "../data/yearly_files/surveys1998.csv\n",
      "../data/yearly_files/surveys1999.csv\n",
      "../data/yearly_files/surveys2000.csv\n",
      "../data/yearly_files/surveys2001.csv\n",
      "../data/yearly_files/surveys2002.csv\n"
     ]
    }
   ],
   "source": [
    "for year in surveys_df[\"year\"].unique():\n",
    "    filename = \"../data/yearly_files/surveys\" + str(year) + \".csv\"\n",
    "    print(filename)"
   ]
  },
  {
   "cell_type": "code",
   "execution_count": 17,
   "id": "79c56c2a",
   "metadata": {},
   "outputs": [
    {
     "data": {
      "text/plain": [
       "['surveys_2002.csv']"
      ]
     },
     "execution_count": 17,
     "metadata": {},
     "output_type": "execute_result"
    }
   ],
   "source": [
    "os.listdir(\"../data/yearly_files/\")"
   ]
  },
  {
   "cell_type": "code",
   "execution_count": 18,
   "id": "a8bf8bac",
   "metadata": {},
   "outputs": [],
   "source": [
    "for year in surveys_df[\"year\"].unique():\n",
    "    filename = \"../data/yearly_files/surveys\" + str(year) + \".csv\"\n",
    "    surveys_year = surveys_df[surveys_df[\"year\"] == year]\n",
    "    surveys_year.to_csv(filename)"
   ]
  },
  {
   "cell_type": "code",
   "execution_count": 19,
   "id": "fb76a00f",
   "metadata": {},
   "outputs": [
    {
     "data": {
      "text/plain": [
       "['surveys2001.csv',\n",
       " 'surveys2000.csv',\n",
       " 'surveys2002.csv',\n",
       " 'surveys1999.csv',\n",
       " 'surveys1998.csv',\n",
       " 'surveys_2002.csv',\n",
       " 'surveys1988.csv',\n",
       " 'surveys1977.csv',\n",
       " 'surveys1989.csv',\n",
       " 'surveys1990.csv',\n",
       " 'surveys1984.csv',\n",
       " 'surveys1985.csv',\n",
       " 'surveys1991.csv',\n",
       " 'surveys1987.csv',\n",
       " 'surveys1993.csv',\n",
       " 'surveys1978.csv',\n",
       " 'surveys1979.csv',\n",
       " 'surveys1992.csv',\n",
       " 'surveys1986.csv',\n",
       " 'surveys1982.csv',\n",
       " 'surveys1996.csv',\n",
       " 'surveys1997.csv',\n",
       " 'surveys1983.csv',\n",
       " 'surveys1995.csv',\n",
       " 'surveys1981.csv',\n",
       " 'surveys1980.csv',\n",
       " 'surveys1994.csv']"
      ]
     },
     "execution_count": 19,
     "metadata": {},
     "output_type": "execute_result"
    }
   ],
   "source": [
    "os.listdir(\"../data/yearly_files/\")"
   ]
  },
  {
   "cell_type": "code",
   "execution_count": 20,
   "id": "51f3555f",
   "metadata": {},
   "outputs": [],
   "source": [
    "# Challenge modifying loops 1\n",
    "for year in surveys_df[\"year\"].unique():\n",
    "    filename = \"../data/yearly_files/surveys\" + str(year) + \".csv\"\n",
    "    surveys_year = surveys_df[surveys_df[\"year\"] == year].dropna()\n",
    "    surveys_year.to_csv(filename)"
   ]
  },
  {
   "cell_type": "code",
   "execution_count": 28,
   "id": "403ecb41",
   "metadata": {},
   "outputs": [
    {
     "name": "stdout",
     "output_type": "stream",
     "text": [
      "[1, 6]\n"
     ]
    }
   ],
   "source": [
    "numbers = list(range(1,10,5))\n",
    "print(numbers)"
   ]
  },
  {
   "cell_type": "raw",
   "id": "921bd1c8",
   "metadata": {},
   "source": []
  },
  {
   "cell_type": "code",
   "execution_count": 31,
   "id": "b6c9a11f",
   "metadata": {},
   "outputs": [],
   "source": [
    "# Challenge modifying loops 2\n",
    "first = surveys_df[\"year\"].min()\n",
    "last = surveys_df[\"year\"].max() + 1\n",
    "\n",
    "\n",
    "\n",
    "for year in range(1977,last,5):\n",
    "    filename = \"../data/yearly_files/surveys5years\" + str(year) + \".csv\"\n",
    "    surveys_year = surveys_df[surveys_df[\"year\"] == year]\n",
    "    surveys_year.to_csv(filename)"
   ]
  },
  {
   "cell_type": "code",
   "execution_count": 32,
   "id": "217ea8e7",
   "metadata": {},
   "outputs": [
    {
     "data": {
      "text/plain": [
       "['surveys2001.csv',\n",
       " 'surveys2000.csv',\n",
       " 'surveys2002.csv',\n",
       " 'surveys5years2002.csv',\n",
       " 'surveys1999.csv',\n",
       " 'surveys5years1977.csv',\n",
       " 'surveys1998.csv',\n",
       " 'surveys_2002.csv',\n",
       " 'surveys1988.csv',\n",
       " 'surveys1977.csv',\n",
       " 'surveys1989.csv',\n",
       " 'surveys1990.csv',\n",
       " 'surveys1984.csv',\n",
       " 'surveys1985.csv',\n",
       " 'surveys1991.csv',\n",
       " 'surveys1987.csv',\n",
       " 'surveys1993.csv',\n",
       " 'surveys1978.csv',\n",
       " 'surveys5years1997.csv',\n",
       " 'surveys5years1982.csv',\n",
       " 'surveys1979.csv',\n",
       " 'surveys1992.csv',\n",
       " 'surveys1986.csv',\n",
       " 'surveys1982.csv',\n",
       " 'surveys1996.csv',\n",
       " 'surveys5years1992.csv',\n",
       " 'surveys5years1987.csv',\n",
       " 'surveys1997.csv',\n",
       " 'surveys1983.csv',\n",
       " 'surveys1995.csv',\n",
       " 'surveys1981.csv',\n",
       " 'surveys1980.csv',\n",
       " 'surveys1994.csv']"
      ]
     },
     "execution_count": 32,
     "metadata": {},
     "output_type": "execute_result"
    }
   ],
   "source": [
    "os.listdir(\"../data/yearly_files/\")"
   ]
  },
  {
   "cell_type": "code",
   "execution_count": 33,
   "id": "581aa81e",
   "metadata": {},
   "outputs": [],
   "source": [
    "# Challenge modifying loops 3\n",
    "for species in surveys_df[\"species_id\"].unique():\n",
    "    filename = \"../data/yearly_files/surveys_species_\" + str(species) + \".csv\"\n",
    "    surveys_species = surveys_df[surveys_df[\"species_id\"] == species]\n",
    "    surveys_species.to_csv(filename)"
   ]
  },
  {
   "cell_type": "code",
   "execution_count": 34,
   "id": "16370db8",
   "metadata": {},
   "outputs": [
    {
     "data": {
      "text/plain": [
       "['surveys2001.csv',\n",
       " 'surveys_species_AB.csv',\n",
       " 'surveys_species_UP.csv',\n",
       " 'surveys_species_NL.csv',\n",
       " 'surveys2000.csv',\n",
       " 'surveys2002.csv',\n",
       " 'surveys_species_US.csv',\n",
       " 'surveys_species_UR.csv',\n",
       " 'surveys_species_AS.csv',\n",
       " 'surveys_species_OX.csv',\n",
       " 'surveys5years2002.csv',\n",
       " 'surveys_species_CM.csv',\n",
       " 'surveys_species_OL.csv',\n",
       " 'surveys_species_ZL.csv',\n",
       " 'surveys1999.csv',\n",
       " 'surveys_species_DM.csv',\n",
       " 'surveys_species_SS.csv',\n",
       " 'surveys_species_PH.csv',\n",
       " 'surveys_species_PI.csv',\n",
       " 'surveys5years1977.csv',\n",
       " 'surveys1998.csv',\n",
       " 'surveys_2002.csv',\n",
       " 'surveys_species_SF.csv',\n",
       " 'surveys_species_DX.csv',\n",
       " 'surveys_species_DO.csv',\n",
       " 'surveys_species_RF.csv',\n",
       " 'surveys_species_SU.csv',\n",
       " 'surveys_species_ST.csv',\n",
       " 'surveys_species_SC.csv',\n",
       " 'surveys_species_PX.csv',\n",
       " 'surveys1988.csv',\n",
       " 'surveys1977.csv',\n",
       " 'surveys_species_SA.csv',\n",
       " 'surveys_species_PM.csv',\n",
       " 'surveys_species_PL.csv',\n",
       " 'surveys1989.csv',\n",
       " 'surveys1990.csv',\n",
       " 'surveys1984.csv',\n",
       " 'surveys_species_DS.csv',\n",
       " 'surveys1985.csv',\n",
       " 'surveys1991.csv',\n",
       " 'surveys1987.csv',\n",
       " 'surveys1993.csv',\n",
       " 'surveys1978.csv',\n",
       " 'surveys5years1997.csv',\n",
       " 'surveys_species_PU.csv',\n",
       " 'surveys_species_PB.csv',\n",
       " 'surveys_species_PC.csv',\n",
       " 'surveys_species_SO.csv',\n",
       " 'surveys5years1982.csv',\n",
       " 'surveys1979.csv',\n",
       " 'surveys1992.csv',\n",
       " 'surveys1986.csv',\n",
       " 'surveys1982.csv',\n",
       " 'surveys1996.csv',\n",
       " 'surveys5years1992.csv',\n",
       " 'surveys_species_RX.csv',\n",
       " 'surveys_species_PG.csv',\n",
       " 'surveys_species_RO.csv',\n",
       " 'surveys_species_PP.csv',\n",
       " 'surveys_species_PF.csv',\n",
       " 'surveys5years1987.csv',\n",
       " 'surveys1997.csv',\n",
       " 'surveys1983.csv',\n",
       " 'surveys1995.csv',\n",
       " 'surveys1981.csv',\n",
       " 'surveys_species_SH.csv',\n",
       " 'surveys_species_RM.csv',\n",
       " 'surveys_species_PE.csv',\n",
       " 'surveys1980.csv',\n",
       " 'surveys1994.csv',\n",
       " 'surveys_species_nan.csv',\n",
       " 'surveys_species_CT.csv',\n",
       " 'surveys_species_CB.csv',\n",
       " 'surveys_species_CU.csv',\n",
       " 'surveys_species_AH.csv',\n",
       " 'surveys_species_OT.csv',\n",
       " 'surveys_species_UL.csv',\n",
       " 'surveys_species_CV.csv',\n",
       " 'surveys_species_BA.csv',\n",
       " 'surveys_species_CS.csv',\n",
       " 'surveys_species_CQ.csv']"
      ]
     },
     "execution_count": 34,
     "metadata": {},
     "output_type": "execute_result"
    }
   ],
   "source": [
    "os.listdir(\"../data/yearly_files/\")"
   ]
  },
  {
   "cell_type": "code",
   "execution_count": 35,
   "id": "35edb010",
   "metadata": {},
   "outputs": [],
   "source": [
    "def this_is_a_function_name(argument1, argument2):\n",
    "    print(\"the function arguments are:\" + argument1 + argument2)\n",
    "    return argument1 * argument2"
   ]
  },
  {
   "cell_type": "code",
   "execution_count": null,
   "id": "bed7afc0",
   "metadata": {},
   "outputs": [],
   "source": []
  }
 ],
 "metadata": {
  "kernelspec": {
   "display_name": "Python 3 (ipykernel)",
   "language": "python",
   "name": "python3"
  },
  "language_info": {
   "codemirror_mode": {
    "name": "ipython",
    "version": 3
   },
   "file_extension": ".py",
   "mimetype": "text/x-python",
   "name": "python",
   "nbconvert_exporter": "python",
   "pygments_lexer": "ipython3",
   "version": "3.8.13"
  }
 },
 "nbformat": 4,
 "nbformat_minor": 5
}
