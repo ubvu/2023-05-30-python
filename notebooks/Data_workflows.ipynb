{
 "cells": [
  {
   "cell_type": "markdown",
   "id": "142462f9",
   "metadata": {},
   "source": [
    "lesson:\n",
    "https://datacarpentry.org/python-ecology-lesson/06-loops-and-functions.html"
   ]
  },
  {
   "cell_type": "code",
   "execution_count": null,
   "id": "89646aeb",
   "metadata": {},
   "outputs": [],
   "source": []
  },
  {
   "cell_type": "code",
   "execution_count": null,
   "id": "75b00005",
   "metadata": {},
   "outputs": [],
   "source": []
  },
  {
   "cell_type": "code",
   "execution_count": 1,
   "id": "cc34c214",
   "metadata": {},
   "outputs": [],
   "source": [
    "animals=[\"lion\", \"tiger\", \"crocodile\", \"vulture\", \"hippo\"]"
   ]
  },
  {
   "cell_type": "code",
   "execution_count": 2,
   "id": "e55dcc57",
   "metadata": {},
   "outputs": [
    {
     "name": "stdout",
     "output_type": "stream",
     "text": [
      "['lion', 'tiger', 'crocodile', 'vulture', 'hippo']\n"
     ]
    }
   ],
   "source": [
    "print(animals)"
   ]
  },
  {
   "cell_type": "code",
   "execution_count": 3,
   "id": "e9e2465a",
   "metadata": {},
   "outputs": [
    {
     "name": "stdout",
     "output_type": "stream",
     "text": [
      "lion\n",
      "tiger\n",
      "crocodile\n",
      "vulture\n",
      "hippo\n"
     ]
    }
   ],
   "source": [
    "for creature in animals:\n",
    "    print(creature)"
   ]
  },
  {
   "cell_type": "code",
   "execution_count": 5,
   "id": "84310037",
   "metadata": {},
   "outputs": [],
   "source": [
    "for creature in animals:\n",
    "    pass"
   ]
  },
  {
   "cell_type": "code",
   "execution_count": 6,
   "id": "5d489d9a",
   "metadata": {},
   "outputs": [
    {
     "name": "stdout",
     "output_type": "stream",
     "text": [
      "hippo\n"
     ]
    }
   ],
   "source": [
    "print(creature)"
   ]
  },
  {
   "cell_type": "code",
   "execution_count": 7,
   "id": "2169f0ba",
   "metadata": {},
   "outputs": [],
   "source": [
    "import os\n",
    "import pandas as pd"
   ]
  },
  {
   "cell_type": "code",
   "execution_count": 8,
   "id": "52567e7f",
   "metadata": {},
   "outputs": [],
   "source": [
    "os.mkdir(\"../data/yearly_files\")"
   ]
  },
  {
   "cell_type": "code",
   "execution_count": 9,
   "id": "c36c6628",
   "metadata": {},
   "outputs": [
    {
     "data": {
      "text/plain": [
       "['surveys2001.csv',\n",
       " 'surveys2002.csv',\n",
       " 'speciesSubset.csv',\n",
       " 'bouldercreek_09_2013.txt',\n",
       " 'species.csv',\n",
       " 'yearly_files',\n",
       " 'surveys.csv',\n",
       " 'out.csv',\n",
       " 'portal_mammals.sqlite',\n",
       " 'readme.txt',\n",
       " '.ipynb_checkpoints',\n",
       " 'surveys_complete.csv',\n",
       " 'plots.csv']"
      ]
     },
     "execution_count": 9,
     "metadata": {},
     "output_type": "execute_result"
    }
   ],
   "source": [
    "os.listdir(\"../data/\")"
   ]
  },
  {
   "cell_type": "code",
   "execution_count": 10,
   "id": "a96671bd",
   "metadata": {},
   "outputs": [],
   "source": [
    "surveys_df = pd.read_csv(\"../data/surveys.csv\")"
   ]
  },
  {
   "cell_type": "code",
   "execution_count": 11,
   "id": "9a64de7a",
   "metadata": {},
   "outputs": [],
   "source": [
    "survey_2002 = surveys_df[surveys_df[\"year\"] == 2002]"
   ]
  },
  {
   "cell_type": "code",
   "execution_count": null,
   "id": "f17a1bde",
   "metadata": {},
   "outputs": [],
   "source": []
  }
 ],
 "metadata": {
  "kernelspec": {
   "display_name": "Python 3 (ipykernel)",
   "language": "python",
   "name": "python3"
  },
  "language_info": {
   "codemirror_mode": {
    "name": "ipython",
    "version": 3
   },
   "file_extension": ".py",
   "mimetype": "text/x-python",
   "name": "python",
   "nbconvert_exporter": "python",
   "pygments_lexer": "ipython3",
   "version": "3.8.13"
  }
 },
 "nbformat": 4,
 "nbformat_minor": 5
}
