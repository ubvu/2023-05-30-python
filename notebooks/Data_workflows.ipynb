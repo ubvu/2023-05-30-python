{
 "cells": [
  {
   "cell_type": "markdown",
   "id": "79f19a51",
   "metadata": {},
   "source": [
    "lesson:\n",
    "https://datacarpentry.org/python-ecology-lesson/06-loops-and-functions.html"
   ]
  },
  {
   "cell_type": "code",
   "execution_count": null,
   "id": "7d42c578",
   "metadata": {},
   "outputs": [],
   "source": []
  },
  {
   "cell_type": "code",
   "execution_count": null,
   "id": "7f16ce40",
   "metadata": {},
   "outputs": [],
   "source": []
  },
  {
   "cell_type": "code",
   "execution_count": 1,
   "id": "62540e73",
   "metadata": {},
   "outputs": [],
   "source": [
    "animals=[\"lion\", \"tiger\", \"crocodile\", \"vulture\", \"hippo\"]"
   ]
  },
  {
   "cell_type": "code",
   "execution_count": 2,
   "id": "49b862e2",
   "metadata": {},
   "outputs": [
    {
     "name": "stdout",
     "output_type": "stream",
     "text": [
      "['lion', 'tiger', 'crocodile', 'vulture', 'hippo']\n"
     ]
    }
   ],
   "source": [
    "print(animals)"
   ]
  },
  {
   "cell_type": "code",
   "execution_count": 3,
   "id": "468e5e2c",
   "metadata": {},
   "outputs": [
    {
     "name": "stdout",
     "output_type": "stream",
     "text": [
      "lion\n",
      "tiger\n",
      "crocodile\n",
      "vulture\n",
      "hippo\n"
     ]
    }
   ],
   "source": [
    "for creature in animals:\n",
    "    print(creature)"
   ]
  },
  {
   "cell_type": "code",
   "execution_count": 5,
   "id": "06ea7f2e",
   "metadata": {},
   "outputs": [],
   "source": [
    "for creature in animals:\n",
    "    pass"
   ]
  },
  {
   "cell_type": "code",
   "execution_count": 6,
   "id": "5ac34d5c",
   "metadata": {},
   "outputs": [
    {
     "name": "stdout",
     "output_type": "stream",
     "text": [
      "hippo\n"
     ]
    }
   ],
   "source": [
    "print(creature)"
   ]
  },
  {
   "cell_type": "code",
   "execution_count": 7,
   "id": "16e20bc5",
   "metadata": {},
   "outputs": [],
   "source": [
    "import os\n",
    "import pandas as pd"
   ]
  },
  {
   "cell_type": "code",
   "execution_count": 8,
   "id": "8ef2124a",
   "metadata": {},
   "outputs": [],
   "source": [
    "os.mkdir(\"../data/yearly_files\")"
   ]
  },
  {
   "cell_type": "code",
   "execution_count": 9,
   "id": "1d3816e7",
   "metadata": {},
   "outputs": [
    {
     "data": {
      "text/plain": [
       "['surveys2001.csv',\n",
       " 'surveys2002.csv',\n",
       " 'speciesSubset.csv',\n",
       " 'bouldercreek_09_2013.txt',\n",
       " 'species.csv',\n",
       " 'yearly_files',\n",
       " 'surveys.csv',\n",
       " 'out.csv',\n",
       " 'portal_mammals.sqlite',\n",
       " 'readme.txt',\n",
       " '.ipynb_checkpoints',\n",
       " 'surveys_complete.csv',\n",
       " 'plots.csv']"
      ]
     },
     "execution_count": 9,
     "metadata": {},
     "output_type": "execute_result"
    }
   ],
   "source": [
    "os.listdir(\"../data/\")"
   ]
  },
  {
   "cell_type": "code",
   "execution_count": 10,
   "id": "898501b7",
   "metadata": {},
   "outputs": [],
   "source": [
    "surveys_df = pd.read_csv(\"../data/surveys.csv\")"
   ]
  },
  {
   "cell_type": "code",
   "execution_count": 11,
   "id": "ec32ba5a",
   "metadata": {},
   "outputs": [],
   "source": [
    "survey_2002 = surveys_df[surveys_df[\"year\"] == 2002]"
   ]
  },
  {
   "cell_type": "code",
   "execution_count": 12,
   "id": "2bc382ad",
   "metadata": {},
   "outputs": [],
   "source": [
    "survey_2002.to_csv(\"../data/yearly_files/surveys_2002.csv\")"
   ]
  },
  {
   "cell_type": "code",
   "execution_count": 13,
   "id": "4b5b2f3e",
   "metadata": {},
   "outputs": [
    {
     "data": {
      "text/plain": [
       "['surveys_2002.csv']"
      ]
     },
     "execution_count": 13,
     "metadata": {},
     "output_type": "execute_result"
    }
   ],
   "source": [
    "os.listdir(\"../data/yearly_files/\")"
   ]
  },
  {
   "cell_type": "code",
   "execution_count": 14,
   "id": "9b3791a9",
   "metadata": {},
   "outputs": [
    {
     "data": {
      "text/plain": [
       "0        1977\n",
       "1        1977\n",
       "2        1977\n",
       "3        1977\n",
       "4        1977\n",
       "         ... \n",
       "35544    2002\n",
       "35545    2002\n",
       "35546    2002\n",
       "35547    2002\n",
       "35548    2002\n",
       "Name: year, Length: 35549, dtype: int64"
      ]
     },
     "execution_count": 14,
     "metadata": {},
     "output_type": "execute_result"
    }
   ],
   "source": [
    "surveys_df[\"year\"]"
   ]
  },
  {
   "cell_type": "code",
   "execution_count": 15,
   "id": "76d67025",
   "metadata": {},
   "outputs": [
    {
     "data": {
      "text/plain": [
       "array([1977, 1978, 1979, 1980, 1981, 1982, 1983, 1984, 1985, 1986, 1987,\n",
       "       1988, 1989, 1990, 1991, 1992, 1993, 1994, 1995, 1996, 1997, 1998,\n",
       "       1999, 2000, 2001, 2002])"
      ]
     },
     "execution_count": 15,
     "metadata": {},
     "output_type": "execute_result"
    }
   ],
   "source": [
    "surveys_df[\"year\"].unique()"
   ]
  },
  {
   "cell_type": "code",
   "execution_count": null,
   "id": "b82f0e2e",
   "metadata": {},
   "outputs": [],
   "source": [
    "for year in surveys_df[\"year\"].unique():\n",
    "    filename = \"../data/yearly_files/surveys\" + str(year) + \".csv\"\n",
    "    print(filename)"
   ]
  }
 ],
 "metadata": {
  "kernelspec": {
   "display_name": "Python 3 (ipykernel)",
   "language": "python",
   "name": "python3"
  },
  "language_info": {
   "codemirror_mode": {
    "name": "ipython",
    "version": 3
   },
   "file_extension": ".py",
   "mimetype": "text/x-python",
   "name": "python",
   "nbconvert_exporter": "python",
   "pygments_lexer": "ipython3",
   "version": "3.8.13"
  }
 },
 "nbformat": 4,
 "nbformat_minor": 5
}
